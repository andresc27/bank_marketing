{
 "cells": [
  {
   "cell_type": "markdown",
   "id": "f9fbedd8",
   "metadata": {},
   "source": [
    "# Proyecto de Marketing Bancario / Bank Marketing Project\n",
    "\n",
    "---\n",
    "\n",
    "## 📌 Introducción / Introduction\n",
    "\n",
    "### 🧾 Versión en Español:\n",
    "Predecir el comportamiento del cliente es una tarea fundamental en las estrategias modernas de marketing, especialmente en el sector bancario. Este proyecto se enfoca en construir un modelo predictivo para determinar si un cliente contratará un depósito a plazo, utilizando datos recolectados de campañas de marketing telefónicas previas realizadas por una institución bancaria portuguesa.\n",
    "\n",
    "Mediante el análisis de estos datos históricos, buscamos identificar los factores que influyen en la decisión del cliente y desarrollar un modelo de aprendizaje automático que pueda ayudar a los bancos a optimizar futuras campañas de marketing.\n",
    "\n",
    "### 🧾 English Version:\n",
    "Predicting customer behavior is a crucial task in modern marketing strategies, especially in the banking sector. This project focuses on building a predictive model to determine whether a customer will subscribe to a term deposit, based on data collected from previous marketing campaigns carried out by a Portuguese banking institution.\n",
    "\n",
    "By analyzing historical data from direct phone call campaigns, we aim to gain insights into the factors influencing customer decisions and to develop a machine learning model that can assist banks in optimizing future marketing efforts.\n",
    "\n",
    "---\n",
    "\n",
    "## 🎯 Objetivos / Objectives\n",
    "\n",
    "### 🧾 Versión en Español:\n",
    "- Explorar y comprender la estructura y el contenido del conjunto de datos.\n",
    "- Realizar el preprocesamiento de datos, incluyendo el tratamiento de variables categóricas y valores faltantes.\n",
    "- Llevar a cabo un análisis exploratorio de datos (EDA) para identificar patrones y correlaciones.\n",
    "- Construir y evaluar modelos predictivos que clasifiquen si un cliente contratará o no un depósito a plazo (`yes` o `no`).\n",
    "- Interpretar los resultados del modelo e identificar las características más influyentes.\n",
    "\n",
    "### 🧾 English Version:\n",
    "- Explore and understand the structure and content of the dataset.\n",
    "- Perform data preprocessing, including handling categorical features and missing values.\n",
    "- Conduct exploratory data analysis (EDA) to identify patterns and correlations.\n",
    "- Build and evaluate predictive models to classify whether a client will subscribe to a term deposit (`yes` or `no`).\n",
    "- Interpret model results and identify the most influential features.\n",
    "\n",
    "---\n",
    "\n",
    "## 📊 Descripción del Conjunto de Datos / Dataset Description\n",
    "\n",
    "### 🧾 Versión en Español:\n",
    "El conjunto de datos utilizado en este proyecto es el [Bank Marketing Dataset](https://archive.ics.uci.edu/dataset/222/bank+marketing) del repositorio UCI Machine Learning. Contiene información relacionada con campañas de marketing directo (llamadas telefónicas) realizadas por una institución bancaria portuguesa. El objetivo de clasificación es predecir si el cliente contratará un depósito a plazo (`y`).\n",
    "\n",
    "- **Número de instancias:** 45,211  \n",
    "- **Número de atributos:** 17 variables de entrada + 1 variable objetivo\n",
    "\n",
    "#### 🔑 Características\n",
    "\n",
    "**Información del Cliente:**\n",
    "- `age`: Edad del cliente (numérica)\n",
    "- `job`: Tipo de trabajo (categórica)\n",
    "- `marital`: Estado civil (categórica)\n",
    "- `education`: Nivel educativo (categórica)\n",
    "- `default`: ¿Tiene crédito en mora? (binaria)\n",
    "- `balance`: Saldo promedio anual en euros (numérica)\n",
    "- `housing`: ¿Tiene préstamo hipotecario? (binaria)\n",
    "- `loan`: ¿Tiene préstamo personal? (binaria)\n",
    "\n",
    "**Información del Contacto:**\n",
    "- `contact`: Tipo de comunicación utilizada (categórica: \"cellular\", \"telephone\")\n",
    "- `day`: Día del último contacto en el mes (numérica)\n",
    "- `month`: Mes del último contacto en el año (categórica)\n",
    "- `duration`: Duración del último contacto en segundos (numérica)\n",
    "\n",
    "**Información de la Campaña:**\n",
    "- `campaign`: Número de contactos durante esta campaña (numérica)\n",
    "- `pdays`: Días desde el último contacto previo (numérica, -1 significa que no fue contactado antes)\n",
    "- `previous`: Número de contactos realizados antes de esta campaña (numérica)\n",
    "- `poutcome`: Resultado de la campaña anterior (categórica)\n",
    "\n",
    "#### 🎯 Variable Objetivo:\n",
    "- `y`: ¿El cliente contrató un depósito a plazo? (binaria: `yes`, `no`)\n",
    "\n",
    "> ⚠️ **Nota:** La variable `duration` está altamente correlacionada con la variable objetivo y debe tratarse con cuidado para evitar **fugas de información** (data leakage).\n",
    "\n",
    "---\n",
    "\n",
    "### 🧾 English Version:\n",
    "The dataset used in this project is the [Bank Marketing Dataset](https://archive.ics.uci.edu/dataset/222/bank+marketing) from the UCI Machine Learning Repository. It contains data related to direct marketing campaigns (phone calls) carried out by a Portuguese banking institution. The classification goal is to predict whether the client will subscribe to a term deposit (`y`).\n",
    "\n",
    "- **Number of instances:** 45,211  \n",
    "- **Number of attributes:** 17 input features + 1 target variable\n",
    "\n",
    "#### 🔑 Features\n",
    "\n",
    "**Client Information:**\n",
    "- `age`: Age of the client (numeric)\n",
    "- `job`: Type of job (categorical)\n",
    "- `marital`: Marital status (categorical)\n",
    "- `education`: Education level (categorical)\n",
    "- `default`: Has credit in default? (binary)\n",
    "- `balance`: Average yearly balance in euros (numeric)\n",
    "- `housing`: Has housing loan? (binary)\n",
    "- `loan`: Has personal loan? (binary)\n",
    "\n",
    "**Contact Information:**\n",
    "- `contact`: Contact communication type (categorical: \"cellular\", \"telephone\")\n",
    "- `day`: Last contact day of the month (numeric)\n",
    "- `month`: Last contact month of the year (categorical)\n",
    "- `duration`: Last contact duration in seconds (numeric)\n",
    "\n",
    "**Campaign Information:**\n",
    "- `campaign`: Number of contacts performed during this campaign (numeric)\n",
    "- `pdays`: Number of days since the client was last contacted (numeric, -1 means never contacted)\n",
    "- `previous`: Number of contacts performed before this campaign (numeric)\n",
    "- `poutcome`: Outcome of the previous marketing campaign (categorical)\n",
    "\n",
    "#### 🎯 Target Variable:\n",
    "- `y`: Has the client subscribed to a term deposit? (binary: `yes`, `no`)\n",
    "\n",
    "> ⚠️ **Note:** The `duration` variable is highly correlated with the target and should be handled carefully during training to avoid **data leakage**.\n",
    "\n",
    "---\n",
    "\n",
    "## 🛠️ Próximos Pasos / Next Steps\n",
    "\n",
    "### 🧾 Versión en Español:\n",
    "En las siguientes secciones, realizaremos el proceso de limpieza, exploración, modelado y evaluación de los datos para construir un sistema predictivo efectivo para la suscripción de depósitos a plazo.\n",
    "\n",
    "### 🧾 English Version:\n",
    "In the following sections, we will perform data cleaning, exploration, modeling, and evaluation to build an effective predictive system for term deposit subscription.\n"
   ]
  },
  {
   "cell_type": "code",
   "execution_count": 3,
   "id": "f54c1b5c",
   "metadata": {},
   "outputs": [],
   "source": [
    "import pandas as pd\n",
    "import seaborn as sns\n",
    "import matplotlib.pyplot as plt\n",
    "from sklearn.feature_selection import mutual_info_classif\n",
    "from sklearn.linear_model import LogisticRegression\n",
    "from sklearn.model_selection import train_test_split\n",
    "from sklearn.metrics import classification_report, accuracy_score\n",
    "from sklearn.preprocessing import StandardScaler"
   ]
  },
  {
   "cell_type": "code",
   "execution_count": 4,
   "id": "cd66e279",
   "metadata": {},
   "outputs": [
    {
     "name": "stdout",
     "output_type": "stream",
     "text": [
      "       age          job  marital            education  default housing loan  \\\n",
      "0       56    housemaid  married             basic.4y       no      no   no   \n",
      "1       57     services  married          high.school  unknown      no   no   \n",
      "2       37     services  married          high.school       no     yes   no   \n",
      "3       40       admin.  married             basic.6y       no      no   no   \n",
      "4       56     services  married          high.school       no      no  yes   \n",
      "...    ...          ...      ...                  ...      ...     ...  ...   \n",
      "41183   73      retired  married  professional.course       no     yes   no   \n",
      "41184   46  blue-collar  married  professional.course       no      no   no   \n",
      "41185   56      retired  married    university.degree       no     yes   no   \n",
      "41186   44   technician  married  professional.course       no      no   no   \n",
      "41187   74      retired  married  professional.course       no     yes   no   \n",
      "\n",
      "         contact month day_of_week  ...  campaign  pdays  previous  \\\n",
      "0      telephone   may         mon  ...         1    999         0   \n",
      "1      telephone   may         mon  ...         1    999         0   \n",
      "2      telephone   may         mon  ...         1    999         0   \n",
      "3      telephone   may         mon  ...         1    999         0   \n",
      "4      telephone   may         mon  ...         1    999         0   \n",
      "...          ...   ...         ...  ...       ...    ...       ...   \n",
      "41183   cellular   nov         fri  ...         1    999         0   \n",
      "41184   cellular   nov         fri  ...         1    999         0   \n",
      "41185   cellular   nov         fri  ...         2    999         0   \n",
      "41186   cellular   nov         fri  ...         1    999         0   \n",
      "41187   cellular   nov         fri  ...         3    999         1   \n",
      "\n",
      "          poutcome emp.var.rate  cons.price.idx  cons.conf.idx  euribor3m  \\\n",
      "0      nonexistent          1.1          93.994          -36.4      4.857   \n",
      "1      nonexistent          1.1          93.994          -36.4      4.857   \n",
      "2      nonexistent          1.1          93.994          -36.4      4.857   \n",
      "3      nonexistent          1.1          93.994          -36.4      4.857   \n",
      "4      nonexistent          1.1          93.994          -36.4      4.857   \n",
      "...            ...          ...             ...            ...        ...   \n",
      "41183  nonexistent         -1.1          94.767          -50.8      1.028   \n",
      "41184  nonexistent         -1.1          94.767          -50.8      1.028   \n",
      "41185  nonexistent         -1.1          94.767          -50.8      1.028   \n",
      "41186  nonexistent         -1.1          94.767          -50.8      1.028   \n",
      "41187      failure         -1.1          94.767          -50.8      1.028   \n",
      "\n",
      "       nr.employed    y  \n",
      "0           5191.0   no  \n",
      "1           5191.0   no  \n",
      "2           5191.0   no  \n",
      "3           5191.0   no  \n",
      "4           5191.0   no  \n",
      "...            ...  ...  \n",
      "41183       4963.6  yes  \n",
      "41184       4963.6   no  \n",
      "41185       4963.6   no  \n",
      "41186       4963.6  yes  \n",
      "41187       4963.6   no  \n",
      "\n",
      "[41188 rows x 21 columns]\n"
     ]
    }
   ],
   "source": [
    "# Load your DataFrame\n",
    "df = pd.read_csv('datasets/bank-additional-full.csv', delimiter=';')\n",
    "print(df)"
   ]
  },
  {
   "cell_type": "markdown",
   "id": "f861d6f4",
   "metadata": {},
   "source": [
    "### Buscamos Datos faltantes"
   ]
  },
  {
   "cell_type": "code",
   "execution_count": 5,
   "id": "016071ab",
   "metadata": {},
   "outputs": [
    {
     "name": "stdout",
     "output_type": "stream",
     "text": [
      "age               0\n",
      "job               0\n",
      "marital           0\n",
      "education         0\n",
      "default           0\n",
      "housing           0\n",
      "loan              0\n",
      "contact           0\n",
      "month             0\n",
      "day_of_week       0\n",
      "duration          0\n",
      "campaign          0\n",
      "pdays             0\n",
      "previous          0\n",
      "poutcome          0\n",
      "emp.var.rate      0\n",
      "cons.price.idx    0\n",
      "cons.conf.idx     0\n",
      "euribor3m         0\n",
      "nr.employed       0\n",
      "y                 0\n",
      "dtype: int64\n"
     ]
    }
   ],
   "source": [
    "# Replace empty strings and custom placeholders with NaN\n",
    "df.replace(['', ' ', 'NA', 'N/A', '?'], pd.NA, inplace=True)\n",
    "\n",
    "# Then count missing values again\n",
    "missing_per_column = df.isnull().sum()\n",
    "print(missing_per_column)"
   ]
  },
  {
   "cell_type": "markdown",
   "id": "49207c0f",
   "metadata": {},
   "source": [
    "#### Una vez encontrados, decidimos si eliminar datos o corregirlos"
   ]
  },
  {
   "cell_type": "code",
   "execution_count": 6,
   "id": "0a9f77f8",
   "metadata": {},
   "outputs": [
    {
     "name": "stdout",
     "output_type": "stream",
     "text": [
      "Porcentaje de datos faltantes por variable\n",
      "default      20.872584\n",
      "education     4.202680\n",
      "housing       2.403613\n",
      "loan          2.403613\n",
      "job           0.801204\n",
      "marital       0.194231\n",
      "dtype: float64\n"
     ]
    }
   ],
   "source": [
    "## now we know the word used for a missing feature is 'unknown'\n",
    "df.replace(['unknown'], pd.NA, inplace=True)\n",
    "\n",
    "# Then count missing values again\n",
    "missing_per_column = df.isnull().sum()\n",
    "\n",
    "#Check percentages of missing data\n",
    "missing_percent = df.isnull().mean() * 100\n",
    "print('Porcentaje de datos faltantes por variable')\n",
    "print(missing_percent[missing_percent > 0].sort_values(ascending= 0))"
   ]
  },
  {
   "cell_type": "markdown",
   "id": "1af1b927",
   "metadata": {},
   "source": [
    "### Buscamos qué variables son las que entregan mayor información (relación lineal entre el target y las demás variables)"
   ]
  },
  {
   "cell_type": "code",
   "execution_count": 7,
   "id": "e8a7bb99",
   "metadata": {},
   "outputs": [
    {
     "data": {
      "image/png": "[encoded data removed]",
      "text/plain": [
       "<Figure size 576x432 with 1 Axes>"
      ]
     },
     "metadata": {
      "needs_background": "light"
     },
     "output_type": "display_data"
    }
   ],
   "source": [
    "#determining linear relationship between y and numerical variables\n",
    "\n",
    "df.fillna('unknown', inplace=True)\n",
    "\n",
    "# Encode the target\n",
    "df['y_encoded'] = df['y'].map({'no': 0, 'yes': 1})\n",
    "\n",
    "# Select numeric features\n",
    "numeric_cols = df.select_dtypes(include='number').columns\n",
    "\n",
    "# Correlation matrix\n",
    "correlations = df[numeric_cols].corrwith(df['y_encoded']).sort_values(ascending=False)\n",
    "\n",
    "# Plot\n",
    "plt.figure(figsize=(8, 6))\n",
    "sns.barplot(x=correlations.values, y=correlations.index)\n",
    "plt.title(\"Correlation with Target (y)\")\n",
    "plt.show()"
   ]
  },
  {
   "cell_type": "markdown",
   "id": "ef56141a",
   "metadata": {},
   "source": [
    "El siguiente bloque de código calcula qué tan informativas son las variables para predecir la variable objetivo (y) usando información mutua (mutual information), y lo visualiza con un gráfico. Vamos paso por paso:"
   ]
  },
  {
   "cell_type": "code",
   "execution_count": 13,
   "id": "0ebd5371",
   "metadata": {},
   "outputs": [
    {
     "data": {
      "image/png": "[encoded data removed]",
      "text/plain": [
       "<Figure size 720x432 with 1 Axes>"
      ]
     },
     "metadata": {
      "needs_background": "light"
     },
     "output_type": "display_data"
    }
   ],
   "source": [
    "# First, convert categorical features using label encoding or keep as category dtype\n",
    "df_encoded = df.copy()\n",
    "for col in df_encoded.select_dtypes(include='object').columns:\n",
    "    df_encoded[col] = df_encoded[col].astype('category').cat.codes\n",
    "    \n",
    "\n",
    "# Calcular la información mutua\n",
    "X = df_encoded.drop(columns=['y', 'y_encoded'])\n",
    "y = df_encoded['y_encoded']\n",
    "\n",
    "mi_scores = mutual_info_classif(X, y, discrete_features='auto')\n",
    "mi_series = pd.Series(mi_scores, index=X.columns).sort_values(ascending=False)\n",
    "\n",
    "# Graficar\n",
    "plt.figure(figsize=(10, 6))\n",
    "palette = sns.color_palette(\"tab20\", len(mi_series))\n",
    "\n",
    "sns.barplot(\n",
    "    x=mi_series.values,\n",
    "    y=mi_series.index,\n",
    "    hue=mi_series.index,           # Solución sugerida\n",
    "    dodge=False,\n",
    "    palette=palette,\n",
    "    legend=False                   # Ocultar leyenda innecesaria\n",
    ")\n",
    "\n",
    "plt.title(\"Mutual Information with Target (y)\")\n",
    "plt.xlabel(\"Mutual Information Score\")\n",
    "plt.ylabel(\"\")  # Quitar etiqueta del eje Y\n",
    "plt.tight_layout()\n",
    "plt.show()"
   ]
  },
  {
   "cell_type": "markdown",
   "id": "763df1a4",
   "metadata": {},
   "source": [
    "### Entrenamos el modelo de machine learning"
   ]
  },
  {
   "cell_type": "code",
   "execution_count": 14,
   "id": "ddd8e3fc",
   "metadata": {},
   "outputs": [
    {
     "name": "stdout",
     "output_type": "stream",
     "text": [
      "Train accuracy: 0.9102276176024279\n",
      "Test accuracy: 0.9102937606215101\n"
     ]
    }
   ],
   "source": [
    "# Drop target column\n",
    "X_all = df_encoded.drop(columns=['y', 'y_encoded'])\n",
    "y = df_encoded['y_encoded']\n",
    "\n",
    "X_train, X_test, y_train, y_test = train_test_split(X_all, y, test_size=0.2, random_state=42)\n",
    "\n",
    "scaler = StandardScaler()\n",
    "X_train_scaled = scaler.fit_transform(X_train)\n",
    "X_test_scaled = scaler.transform(X_test)\n",
    "\n",
    "model = LogisticRegression(max_iter=2000)\n",
    "model.fit(X_train_scaled, y_train)\n",
    "\n",
    "print(\"Train accuracy:\", model.score(X_train_scaled, y_train))\n",
    "print(\"Test accuracy:\", model.score(X_test_scaled, y_test))"
   ]
  },
  {
   "cell_type": "markdown",
   "id": "01618ad1",
   "metadata": {},
   "source": [
    "### Entrenamos el modelo quitando las variables que no aportan información"
   ]
  },
  {
   "cell_type": "code",
   "execution_count": 16,
   "id": "b2ca54fa",
   "metadata": {},
   "outputs": [
    {
     "name": "stdout",
     "output_type": "stream",
     "text": [
      "Train accuracy: 0.909153447717708\n",
      "Validation accuracy: 0.9142995872784656\n",
      "Test accuracy: 0.9101723719349356\n"
     ]
    }
   ],
   "source": [
    "# Filtrar variables con información mutua significativa\n",
    "selected_cols = mi_series[mi_series > 0.013].index.tolist()\n",
    "X_sel = df_encoded[selected_cols]\n",
    "y = df_encoded['y_encoded']\n",
    "\n",
    "# Dividir en entrenamiento (60%), validación (20%), prueba (20%)\n",
    "X_temp, X_test, y_temp, y_test = train_test_split(X_sel, y, test_size=0.2, random_state=42)\n",
    "X_train, X_val, y_train, y_val = train_test_split(X_temp, y_temp, test_size=0.25, random_state=42)  # 0.25 * 0.8 = 0.2\n",
    "\n",
    "# Escalado\n",
    "scaler = StandardScaler()\n",
    "X_train_scaled = scaler.fit_transform(X_train)\n",
    "X_val_scaled = scaler.transform(X_val)\n",
    "X_test_scaled = scaler.transform(X_test)\n",
    "\n",
    "# Entrenar modelo\n",
    "model = LogisticRegression(max_iter=1000)\n",
    "model.fit(X_train_scaled, y_train)\n",
    "\n",
    "# Evaluar desempeño\n",
    "print(\"Train accuracy:\", accuracy_score(y_train, model.predict(X_train_scaled)))\n",
    "print(\"Validation accuracy:\", accuracy_score(y_val, model.predict(X_val_scaled)))\n",
    "print(\"Test accuracy:\", accuracy_score(y_test, model.predict(X_test_scaled)))"
   ]
  },
  {
   "cell_type": "markdown",
   "id": "d6b4a20b",
   "metadata": {},
   "source": [
    "## Conclusiones / Conclusions\n",
    "\n",
    "### Comparación de modelos / Model Comparison\n",
    "\n",
    "**Modelo 1** (Todas las variables):  \n",
    "- Utiliza todas las variables del dataset tras codificación.  \n",
    "- Accuracy en entrenamiento: aproximadamente 91%.  \n",
    "- Accuracy en prueba: aproximadamente 91%.  \n",
    "- División de datos: 80% entrenamiento / 20% prueba.  \n",
    "\n",
    "**Model 1** (All variables):  \n",
    "- Uses all dataset variables after encoding.  \n",
    "- Training accuracy: approximately 91%.  \n",
    "- Test accuracy: approximately 91%.  \n",
    "- Data split: 80% training / 20% testing.  \n",
    "\n",
    "**Modelo 2** (Variables seleccionadas por información mutua):  \n",
    "- Usa solo variables con información mutua significativa (mi > 0.013).  \n",
    "- Accuracy medida por separado en entrenamiento, validación y prueba.  \n",
    "- División de datos: 60% entrenamiento / 20% validación / 20% prueba.  \n",
    "\n",
    "**Model 2** (Selected variables via mutual information):  \n",
    "- Uses only variables with significant mutual information (mi > 0.013).  \n",
    "- Accuracy measured separately on training, validation, and test sets.  \n",
    "- Data split: 60% training / 20% validation / 20% testing.  \n",
    "\n",
    "### Conclusiones generales / General Conclusions\n",
    "\n",
    "**Español:**  \n",
    "- La selección de características reduce la dimensionalidad del modelo y mejora su interpretabilidad.  \n",
    "- Si la precisión se mantiene similar al usar menos variables, significa que las seleccionadas contienen la mayoría de la información útil.  \n",
    "- La división en tres conjuntos permite evaluar el modelo de manera más robusta.  \n",
    "- Si el rendimiento baja, puede ajustarse el umbral de selección para incluir más variables relevantes.  \n",
    "\n",
    "**English:**  \n",
    "- Feature selection reduces model dimensionality and improves interpretability.  \n",
    "- If accuracy remains similar with fewer variables, it means the selected ones contain most of the useful information.  \n",
    "- Splitting into three sets allows for a more robust evaluation of model performance.  \n",
    "- If performance drops, the selection threshold can be adjusted to include more relevant variables.  \n"
   ]
  },
  {
   "cell_type": "code",
   "execution_count": null,
   "id": "400c3763",
   "metadata": {},
   "outputs": [],
   "source": []
  }
 ],
 "metadata": {
  "@webio": {
   "lastCommId": null,
   "lastKernelId": null
  },
  "kernelspec": {
   "display_name": "Python 3",
   "language": "python",
   "name": "python3"
  },
  "language_info": {
   "codemirror_mode": {
    "name": "ipython",
    "version": 3
   },
   "file_extension": ".py",
   "mimetype": "text/x-python",
   "name": "python",
   "nbconvert_exporter": "python",
   "pygments_lexer": "ipython3",
   "version": "3.11.9"
  }
 },
 "nbformat": 4,
 "nbformat_minor": 5
}
