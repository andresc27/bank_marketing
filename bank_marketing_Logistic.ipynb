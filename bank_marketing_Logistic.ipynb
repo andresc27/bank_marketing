{
 "cells": [
  {
   "cell_type": "markdown",
   "id": "f9fbedd8",
   "metadata": {},
   "source": [
    "# Proyecto de Marketing Bancario / Bank Marketing Project\n",
    "\n",
    "---\n",
    "\n",
    "## 📌 Introducción / Introduction\n",
    "\n",
    "### 🧾 Versión en Español:\n",
    "Predecir el comportamiento del cliente es una tarea fundamental en las estrategias modernas de marketing, especialmente en el sector bancario. Este proyecto se enfoca en construir un modelo predictivo para determinar si un cliente contratará un depósito a plazo, utilizando datos recolectados de campañas de marketing telefónicas previas realizadas por una institución bancaria portuguesa.\n",
    "\n",
    "Mediante el análisis de estos datos históricos, buscamos identificar los factores que influyen en la decisión del cliente y desarrollar un modelo de aprendizaje automático que pueda ayudar a los bancos a optimizar futuras campañas de marketing.\n",
    "\n",
    "### 🧾 English Version:\n",
    "Predicting customer behavior is a crucial task in modern marketing strategies, especially in the banking sector. This project focuses on building a predictive model to determine whether a customer will subscribe to a term deposit, based on data collected from previous marketing campaigns carried out by a Portuguese banking institution.\n",
    "\n",
    "By analyzing historical data from direct phone call campaigns, we aim to gain insights into the factors influencing customer decisions and to develop a machine learning model that can assist banks in optimizing future marketing efforts.\n",
    "\n",
    "---\n",
    "\n",
    "## 🎯 Objetivos / Objectives\n",
    "\n",
    "### 🧾 Versión en Español:\n",
    "- Explorar y comprender la estructura y el contenido del conjunto de datos.\n",
    "- Realizar el preprocesamiento de datos, incluyendo el tratamiento de variables categóricas y valores faltantes.\n",
    "- Llevar a cabo un análisis exploratorio de datos (EDA) para identificar patrones y correlaciones.\n",
    "- Construir y evaluar modelos predictivos que clasifiquen si un cliente contratará o no un depósito a plazo (`yes` o `no`).\n",
    "- Interpretar los resultados del modelo e identificar las características más influyentes.\n",
    "\n",
    "### 🧾 English Version:\n",
    "- Explore and understand the structure and content of the dataset.\n",
    "- Perform data preprocessing, including handling categorical features and missing values.\n",
    "- Conduct exploratory data analysis (EDA) to identify patterns and correlations.\n",
    "- Build and evaluate predictive models to classify whether a client will subscribe to a term deposit (`yes` or `no`).\n",
    "- Interpret model results and identify the most influential features.\n",
    "\n",
    "---\n",
    "\n",
    "## 📊 Descripción del Conjunto de Datos / Dataset Description\n",
    "\n",
    "### 🧾 Versión en Español:\n",
    "El conjunto de datos utilizado en este proyecto es el [Bank Marketing Dataset](https://archive.ics.uci.edu/dataset/222/bank+marketing) del repositorio UCI Machine Learning. Contiene información relacionada con campañas de marketing directo (llamadas telefónicas) realizadas por una institución bancaria portuguesa. El objetivo de clasificación es predecir si el cliente contratará un depósito a plazo (`y`).\n",
    "\n",
    "- **Número de instancias:** 45,211  \n",
    "- **Número de atributos:** 17 variables de entrada + 1 variable objetivo\n",
    "\n",
    "#### 🔑 Características\n",
    "\n",
    "**Información del Cliente:**\n",
    "- `age`: Edad del cliente (numérica)\n",
    "- `job`: Tipo de trabajo (categórica)\n",
    "- `marital`: Estado civil (categórica)\n",
    "- `education`: Nivel educativo (categórica)\n",
    "- `default`: ¿Tiene crédito en mora? (binaria)\n",
    "- `balance`: Saldo promedio anual en euros (numérica)\n",
    "- `housing`: ¿Tiene préstamo hipotecario? (binaria)\n",
    "- `loan`: ¿Tiene préstamo personal? (binaria)\n",
    "\n",
    "**Información del Contacto:**\n",
    "- `contact`: Tipo de comunicación utilizada (categórica: \"cellular\", \"telephone\")\n",
    "- `day`: Día del último contacto en el mes (numérica)\n",
    "- `month`: Mes del último contacto en el año (categórica)\n",
    "- `duration`: Duración del último contacto en segundos (numérica)\n",
    "\n",
    "**Información de la Campaña:**\n",
    "- `campaign`: Número de contactos durante esta campaña (numérica)\n",
    "- `pdays`: Días desde el último contacto previo (numérica, -1 significa que no fue contactado antes)\n",
    "- `previous`: Número de contactos realizados antes de esta campaña (numérica)\n",
    "- `poutcome`: Resultado de la campaña anterior (categórica)\n",
    "\n",
    "#### 🎯 Variable Objetivo:\n",
    "- `y`: ¿El cliente contrató un depósito a plazo? (binaria: `yes`, `no`)\n",
    "\n",
    "> ⚠️ **Nota:** La variable `duration` está altamente correlacionada con la variable objetivo y debe tratarse con cuidado para evitar **fugas de información** (data leakage).\n",
    "\n",
    "---\n",
    "\n",
    "### 🧾 English Version:\n",
    "The dataset used in this project is the [Bank Marketing Dataset](https://archive.ics.uci.edu/dataset/222/bank+marketing) from the UCI Machine Learning Repository. It contains data related to direct marketing campaigns (phone calls) carried out by a Portuguese banking institution. The classification goal is to predict whether the client will subscribe to a term deposit (`y`).\n",
    "\n",
    "- **Number of instances:** 45,211  \n",
    "- **Number of attributes:** 17 input features + 1 target variable\n",
    "\n",
    "#### 🔑 Features\n",
    "\n",
    "**Client Information:**\n",
    "- `age`: Age of the client (numeric)\n",
    "- `job`: Type of job (categorical)\n",
    "- `marital`: Marital status (categorical)\n",
    "- `education`: Education level (categorical)\n",
    "- `default`: Has credit in default? (binary)\n",
    "- `balance`: Average yearly balance in euros (numeric)\n",
    "- `housing`: Has housing loan? (binary)\n",
    "- `loan`: Has personal loan? (binary)\n",
    "\n",
    "**Contact Information:**\n",
    "- `contact`: Contact communication type (categorical: \"cellular\", \"telephone\")\n",
    "- `day`: Last contact day of the month (numeric)\n",
    "- `month`: Last contact month of the year (categorical)\n",
    "- `duration`: Last contact duration in seconds (numeric)\n",
    "\n",
    "**Campaign Information:**\n",
    "- `campaign`: Number of contacts performed during this campaign (numeric)\n",
    "- `pdays`: Number of days since the client was last contacted (numeric, -1 means never contacted)\n",
    "- `previous`: Number of contacts performed before this campaign (numeric)\n",
    "- `poutcome`: Outcome of the previous marketing campaign (categorical)\n",
    "\n",
    "#### 🎯 Target Variable:\n",
    "- `y`: Has the client subscribed to a term deposit? (binary: `yes`, `no`)\n",
    "\n",
    "> ⚠️ **Note:** The `duration` variable is highly correlated with the target and should be handled carefully during training to avoid **data leakage**.\n",
    "\n",
    "---\n",
    "\n",
    "## 🛠️ Próximos Pasos / Next Steps\n",
    "\n",
    "### 🧾 Versión en Español:\n",
    "En las siguientes secciones, realizaremos el proceso de limpieza, exploración, modelado y evaluación de los datos para construir un sistema predictivo efectivo para la suscripción de depósitos a plazo.\n",
    "\n",
    "### 🧾 English Version:\n",
    "In the following sections, we will perform data cleaning, exploration, modeling, and evaluation to build an effective predictive system for term deposit subscription.\n"
   ]
  },
  {
   "cell_type": "code",
   "execution_count": 1,
   "id": "f54c1b5c",
   "metadata": {},
   "outputs": [],
   "source": [
    "import pandas as pd\n",
    "import seaborn as sns\n",
    "import numpy as np\n",
    "import matplotlib.pyplot as plt\n",
    "\n",
    "from sklearn.feature_selection import mutual_info_classif\n",
    "from sklearn.linear_model import LogisticRegression\n",
    "from sklearn.model_selection import train_test_split, validation_curve\n",
    "from sklearn.metrics import classification_report, accuracy_score, confusion_matrix, roc_auc_score\n",
    "from sklearn.preprocessing import StandardScaler\n",
    "from sklearn.metrics import roc_curve, auc\n",
    "from sklearn.utils import class_weight"
   ]
  },
  {
   "cell_type": "code",
   "execution_count": 2,
   "id": "cd66e279",
   "metadata": {},
   "outputs": [
    {
     "name": "stdout",
     "output_type": "stream",
     "text": [
      "       age          job  marital            education  default housing loan  \\\n",
      "0       56    housemaid  married             basic.4y       no      no   no   \n",
      "1       57     services  married          high.school  unknown      no   no   \n",
      "2       37     services  married          high.school       no     yes   no   \n",
      "3       40       admin.  married             basic.6y       no      no   no   \n",
      "4       56     services  married          high.school       no      no  yes   \n",
      "...    ...          ...      ...                  ...      ...     ...  ...   \n",
      "41183   73      retired  married  professional.course       no     yes   no   \n",
      "41184   46  blue-collar  married  professional.course       no      no   no   \n",
      "41185   56      retired  married    university.degree       no     yes   no   \n",
      "41186   44   technician  married  professional.course       no      no   no   \n",
      "41187   74      retired  married  professional.course       no     yes   no   \n",
      "\n",
      "         contact month day_of_week  ...  campaign  pdays  previous  \\\n",
      "0      telephone   may         mon  ...         1    999         0   \n",
      "1      telephone   may         mon  ...         1    999         0   \n",
      "2      telephone   may         mon  ...         1    999         0   \n",
      "3      telephone   may         mon  ...         1    999         0   \n",
      "4      telephone   may         mon  ...         1    999         0   \n",
      "...          ...   ...         ...  ...       ...    ...       ...   \n",
      "41183   cellular   nov         fri  ...         1    999         0   \n",
      "41184   cellular   nov         fri  ...         1    999         0   \n",
      "41185   cellular   nov         fri  ...         2    999         0   \n",
      "41186   cellular   nov         fri  ...         1    999         0   \n",
      "41187   cellular   nov         fri  ...         3    999         1   \n",
      "\n",
      "          poutcome emp.var.rate  cons.price.idx  cons.conf.idx  euribor3m  \\\n",
      "0      nonexistent          1.1          93.994          -36.4      4.857   \n",
      "1      nonexistent          1.1          93.994          -36.4      4.857   \n",
      "2      nonexistent          1.1          93.994          -36.4      4.857   \n",
      "3      nonexistent          1.1          93.994          -36.4      4.857   \n",
      "4      nonexistent          1.1          93.994          -36.4      4.857   \n",
      "...            ...          ...             ...            ...        ...   \n",
      "41183  nonexistent         -1.1          94.767          -50.8      1.028   \n",
      "41184  nonexistent         -1.1          94.767          -50.8      1.028   \n",
      "41185  nonexistent         -1.1          94.767          -50.8      1.028   \n",
      "41186  nonexistent         -1.1          94.767          -50.8      1.028   \n",
      "41187      failure         -1.1          94.767          -50.8      1.028   \n",
      "\n",
      "       nr.employed    y  \n",
      "0           5191.0   no  \n",
      "1           5191.0   no  \n",
      "2           5191.0   no  \n",
      "3           5191.0   no  \n",
      "4           5191.0   no  \n",
      "...            ...  ...  \n",
      "41183       4963.6  yes  \n",
      "41184       4963.6   no  \n",
      "41185       4963.6   no  \n",
      "41186       4963.6  yes  \n",
      "41187       4963.6   no  \n",
      "\n",
      "[41188 rows x 21 columns]\n"
     ]
    }
   ],
   "source": [
    "# Load your DataFrame\n",
    "df = pd.read_csv('datasets/bank-additional-full.csv', delimiter=';')\n",
    "print(df)"
   ]
  },
  {
   "cell_type": "markdown",
   "id": "f861d6f4",
   "metadata": {},
   "source": [
    "### Buscamos Datos faltantes"
   ]
  },
  {
   "cell_type": "code",
   "execution_count": 3,
   "id": "016071ab",
   "metadata": {},
   "outputs": [
    {
     "name": "stdout",
     "output_type": "stream",
     "text": [
      "age               0\n",
      "job               0\n",
      "marital           0\n",
      "education         0\n",
      "default           0\n",
      "housing           0\n",
      "loan              0\n",
      "contact           0\n",
      "month             0\n",
      "day_of_week       0\n",
      "duration          0\n",
      "campaign          0\n",
      "pdays             0\n",
      "previous          0\n",
      "poutcome          0\n",
      "emp.var.rate      0\n",
      "cons.price.idx    0\n",
      "cons.conf.idx     0\n",
      "euribor3m         0\n",
      "nr.employed       0\n",
      "y                 0\n",
      "dtype: int64\n"
     ]
    }
   ],
   "source": [
    "# Then count missing values again\n",
    "missing_per_column = df.isnull().sum()\n",
    "print(missing_per_column)"
   ]
  },
  {
   "cell_type": "markdown",
   "id": "1af1b927",
   "metadata": {},
   "source": [
    "### Buscamos qué variables son las que entregan mayor información (relación lineal entre el target y las demás variables)"
   ]
  },
  {
   "cell_type": "code",
   "execution_count": 4,
   "id": "e8a7bb99",
   "metadata": {},
   "outputs": [
    {
     "data": {
      "image/png": "[encoded data removed]",
      "text/plain": [
       "<Figure size 576x432 with 1 Axes>"
      ]
     },
     "metadata": {
      "needs_background": "light"
     },
     "output_type": "display_data"
    }
   ],
   "source": [
    "#determining linear relationship between y and numerical variables\n",
    "\n",
    "# Encode the target\n",
    "df['y_encoded'] = df['y'].map({'no': 0, 'yes': 1})\n",
    "\n",
    "# Select numeric features\n",
    "numeric_cols = df.select_dtypes(include='number').columns\n",
    "\n",
    "# Correlation matrix\n",
    "correlations = df[numeric_cols].corrwith(df['y_encoded']).sort_values(ascending=False)\n",
    "\n",
    "# Plot\n",
    "plt.figure(figsize=(8, 6))\n",
    "sns.barplot(x=correlations.values, y=correlations.index)\n",
    "plt.title(\"Correlation with Target (y)\")\n",
    "plt.show()"
   ]
  },
  {
   "cell_type": "markdown",
   "id": "ef56141a",
   "metadata": {},
   "source": [
    "El siguiente bloque de código calcula qué tan informativas son las variables para predecir la variable objetivo (y) usando información mutua (mutual information), y lo visualiza con un gráfico. Vamos paso por paso:"
   ]
  },
  {
   "cell_type": "code",
   "execution_count": 5,
   "id": "0ebd5371",
   "metadata": {},
   "outputs": [
    {
     "data": {
      "image/png": "[encoded data removed]",
      "text/plain": [
       "<Figure size 720x432 with 1 Axes>"
      ]
     },
     "metadata": {
      "needs_background": "light"
     },
     "output_type": "display_data"
    }
   ],
   "source": [
    "# First, convert categorical features using label encoding or keep as category dtype\n",
    "df_encoded = df.copy()\n",
    "for col in df_encoded.select_dtypes(include='object').columns:\n",
    "    df_encoded[col] = df_encoded[col].astype('category').cat.codes\n",
    "    \n",
    "\n",
    "# Calcular la información mutua\n",
    "X = df_encoded.drop(columns=['y', 'y_encoded'])\n",
    "y = df_encoded['y_encoded']\n",
    "\n",
    "mi_scores = mutual_info_classif(X, y, discrete_features='auto')\n",
    "mi_series = pd.Series(mi_scores, index=X.columns).sort_values(ascending=False)\n",
    "\n",
    "# Graficar\n",
    "plt.figure(figsize=(10, 6))\n",
    "palette = sns.color_palette(\"tab20\", len(mi_series))\n",
    "\n",
    "sns.barplot(\n",
    "    x=mi_series.values,\n",
    "    y=mi_series.index,\n",
    "    hue=mi_series.index,           # Solución sugerida\n",
    "    dodge=False,\n",
    "    palette=palette,\n",
    "    legend=False                   # Ocultar leyenda innecesaria\n",
    ")\n",
    "\n",
    "plt.title(\"Mutual Information with Target (y)\")\n",
    "plt.xlabel(\"Mutual Information Score\")\n",
    "plt.ylabel(\"\")  # Quitar etiqueta del eje Y\n",
    "plt.tight_layout()\n",
    "plt.show()"
   ]
  },
  {
   "cell_type": "markdown",
   "id": "763df1a4",
   "metadata": {},
   "source": [
    "### Entrenamos el modelo de machine learning"
   ]
  },
  {
   "cell_type": "code",
   "execution_count": 6,
   "id": "ddd8e3fc",
   "metadata": {},
   "outputs": [
    {
     "data": {
      "image/png": "[encoded data removed]",
      "text/plain": [
       "<Figure size 720x432 with 1 Axes>"
      ]
     },
     "metadata": {
      "needs_background": "light"
     },
     "output_type": "display_data"
    }
   ],
   "source": [
    "# Drop target column\n",
    "X_all = df_encoded.drop(columns=['y', 'y_encoded'])\n",
    "y = df_encoded['y_encoded']\n",
    "\n",
    "X_temp, X_test, y_temp, y_test = train_test_split(X_all, y, test_size=0.15, random_state=42)\n",
    "X_train, X_val, y_train, y_val = train_test_split(X_temp, y_temp, test_size=0.15/0.85, random_state=42)\n",
    "\n",
    "scaler = StandardScaler()\n",
    "X_train_scaled = scaler.fit_transform(X_train)\n",
    "X_val_scaled = scaler.transform(X_val)\n",
    "X_test_scaled = scaler.transform(X_test)\n",
    "\n",
    "\n",
    "# Tomamos en cuenta el desbalance de datos\n",
    "class_weights = class_weight.compute_class_weight(\n",
    "    class_weight='balanced',\n",
    "    classes=np.unique(y_train),\n",
    "    y=y_train\n",
    ")\n",
    "class_weight_dict = dict(enumerate(class_weights))\n",
    "\n",
    "\n",
    "# Parámetros para validation curve\n",
    "param_range = np.logspace(-2, 1, 20)  # desde 0.01 hasta 10 en escala log\n",
    "\n",
    "train_scores, val_scores = validation_curve(\n",
    "    LogisticRegression(class_weight=class_weight_dict, penalty='l2', solver='lbfgs', max_iter=2000),\n",
    "    X_train_scaled,\n",
    "    y_train,\n",
    "    param_name=\"C\",\n",
    "    param_range=param_range,\n",
    "    cv=5,\n",
    "    scoring=\"accuracy\"\n",
    ")\n",
    "\n",
    "train_mean = np.mean(train_scores, axis=1)\n",
    "val_mean = np.mean(val_scores, axis=1)\n",
    "\n",
    "plt.figure(figsize=(10,6))\n",
    "plt.semilogx(param_range, train_mean, label='Training Accuracy')\n",
    "plt.semilogx(param_range, val_mean, label='Validation Accuracy')\n",
    "plt.xlabel('C (Inverse regularization strength)')\n",
    "plt.ylabel('Accuracy')\n",
    "plt.title('Validation Curve for Logistic Regression')\n",
    "plt.legend()\n",
    "plt.grid(True)\n",
    "plt.show()\n"
   ]
  },
  {
   "cell_type": "code",
   "execution_count": 7,
   "id": "e8f9f4aa",
   "metadata": {},
   "outputs": [
    {
     "name": "stdout",
     "output_type": "stream",
     "text": [
      "C=0.01 -> Validation Accuracy: 0.8569348\n",
      "C=0.1 -> Validation Accuracy: 0.8580676\n",
      "C=0.15 -> Validation Accuracy: 0.8574203\n",
      "C=1 -> Validation Accuracy: 0.8575821\n",
      "C=3 -> Validation Accuracy: 0.8569348\n",
      "C=5 -> Validation Accuracy: 0.8570966\n",
      "C=7 -> Validation Accuracy: 0.8569348\n",
      "C=10 -> Validation Accuracy: 0.8569348\n",
      "\n",
      "Mejores parámetros: {'C': 0.1}\n",
      "Mejor accuracy en validación: 0.8581\n"
     ]
    }
   ],
   "source": [
    "# Define varios valores de hiperparámetros para probar\n",
    "param_grid = {\n",
    "    'C': [0.01, 0.1, 0.15, 1, 3 ,5, 7, 10],  # inverso de la regularización\n",
    "    'penalty': ['l2'],        # regularización L2\n",
    "    'solver': ['lbfgs']\n",
    "}\n",
    "\n",
    "best_acc = 0\n",
    "best_params = None\n",
    "\n",
    "for C in param_grid['C']:\n",
    "    # Crear el modelo con el parámetro actual\n",
    "    model = LogisticRegression(class_weight=class_weight_dict, C=C, penalty='l2', solver='lbfgs', max_iter=2000)\n",
    "    model.fit(X_train_scaled, y_train)\n",
    "    \n",
    "    # Validar con el set de validación\n",
    "    y_val_pred = model.predict(X_val_scaled)\n",
    "    acc = accuracy_score(y_val, y_val_pred)\n",
    "    print(f\"C={C} -> Validation Accuracy: {acc:.7f}\")\n",
    "\n",
    "    if acc > best_acc:\n",
    "        best_acc = acc\n",
    "        best_params = {'C': C}\n",
    "\n",
    "print(f\"\\nMejores parámetros: {best_params}\")\n",
    "print(f\"Mejor accuracy en validación: {best_acc:.4f}\") "
   ]
  },
  {
   "cell_type": "code",
   "execution_count": 8,
   "id": "2de11994",
   "metadata": {},
   "outputs": [
    {
     "name": "stdout",
     "output_type": "stream",
     "text": [
      "Accuracy en test con modelo final: 0.8539\n"
     ]
    }
   ],
   "source": [
    "# Entrenar con los mejores parámetros usando todo el set train+val\n",
    "X_train_val_scaled = np.vstack([X_train_scaled, X_val_scaled])\n",
    "y_train_val = np.concatenate([y_train, y_val])\n",
    "\n",
    "# Tomamos en cuenta el desbalance de datos\n",
    "class_weights = class_weight.compute_class_weight(\n",
    "    class_weight='balanced',\n",
    "    classes=np.unique(y_train_val),\n",
    "    y=y_train_val\n",
    ")\n",
    "class_weight_final = dict(enumerate(class_weights))\n",
    "\n",
    "final_model = LogisticRegression(class_weight=class_weight_final, C=best_params['C'], penalty='l2', solver='lbfgs', max_iter=2000)\n",
    "final_model.fit(X_train_val_scaled, y_train_val)\n",
    "\n",
    "# Evaluar con el set de test\n",
    "y_test_pred = final_model.predict(X_test_scaled)\n",
    "test_acc = accuracy_score(y_test, y_test_pred)\n",
    "print(f\"Accuracy en test con modelo final: {test_acc:.4f}\")"
   ]
  },
  {
   "cell_type": "code",
   "execution_count": 9,
   "id": "dc1ab1f2",
   "metadata": {},
   "outputs": [
    {
     "name": "stdout",
     "output_type": "stream",
     "text": [
      "\n",
      "--- Reporte de clasificación (test) ---\n",
      "              precision    recall  f1-score   support\n",
      "\n",
      "           0       0.98      0.85      0.91      5478\n",
      "           1       0.43      0.89      0.58       701\n",
      "\n",
      "    accuracy                           0.85      6179\n",
      "   macro avg       0.71      0.87      0.75      6179\n",
      "weighted avg       0.92      0.85      0.87      6179\n",
      "\n"
     ]
    },
    {
     "data": {
      "image/png": "[encoded data removed]",
      "text/plain": [
       "<Figure size 432x360 with 1 Axes>"
      ]
     },
     "metadata": {
      "needs_background": "light"
     },
     "output_type": "display_data"
    },
    {
     "name": "stdout",
     "output_type": "stream",
     "text": [
      "AUC en test: 0.9354\n"
     ]
    },
    {
     "data": {
      "image/png": "[encoded data removed]",
      "text/plain": [
       "<Figure size 720x432 with 1 Axes>"
      ]
     },
     "metadata": {
      "needs_background": "light"
     },
     "output_type": "display_data"
    }
   ],
   "source": [
    "print(\"\\n--- Reporte de clasificación (test) ---\")\n",
    "print(classification_report(y_test, y_test_pred))\n",
    "\n",
    "# Matriz de confusión\n",
    "cm = confusion_matrix(y_test, y_test_pred)\n",
    "plt.figure(figsize=(6,5))\n",
    "sns.heatmap(cm, annot=True, fmt='d', cmap='Blues', cbar=False)\n",
    "plt.xlabel('Predicted label')\n",
    "plt.ylabel('True label')\n",
    "plt.title('Confusion Matrix')\n",
    "plt.show()\n",
    "\n",
    "# La curva ROC y AUC\n",
    "y_test_proba = final_model.predict_proba(X_test_scaled)[:, 1]\n",
    "auc = roc_auc_score(y_test, y_test_proba)\n",
    "print(f\"AUC en test: {auc:.4f}\")\n",
    "\n",
    "# Graficar ROC curve\n",
    "fpr, tpr, thresholds = roc_curve(y_test, y_test_proba)\n",
    "\n",
    "plt.figure(figsize=(10,6))\n",
    "plt.plot(fpr, tpr, label=f'ROC curve (area = {auc:.4f})')\n",
    "plt.plot([0, 1], [0, 1], 'k--')\n",
    "plt.xlabel('False Positive Rate')\n",
    "plt.ylabel('True Positive Rate')\n",
    "plt.title('Curva ROC - Test')\n",
    "plt.legend(loc='lower right')\n",
    "plt.grid(True)\n",
    "plt.show()"
   ]
  },
  {
   "cell_type": "markdown",
   "id": "01618ad1",
   "metadata": {},
   "source": [
    "### El modelo tiene una tasa alta de falsos negativos\n",
    "\n",
    "Esto significa que clientes, que sí quieren una suscripción a plazo fijo, no serán contactados y por tanto representarán una gran pérdida para el banco.\n",
    "\n",
    "El objetivo ahora es reducir la tasa de falsos negativos"
   ]
  },
  {
   "cell_type": "code",
   "execution_count": 10,
   "id": "e4c673f1",
   "metadata": {},
   "outputs": [
    {
     "name": "stdout",
     "output_type": "stream",
     "text": [
      "Reporte de clasificación con umbral ajustado:\n",
      "              precision    recall  f1-score   support\n",
      "\n",
      "           0       0.99      0.77      0.87      5478\n",
      "           1       0.35      0.95      0.51       701\n",
      "\n",
      "    accuracy                           0.79      6179\n",
      "   macro avg       0.67      0.86      0.69      6179\n",
      "weighted avg       0.92      0.79      0.83      6179\n",
      "\n",
      "Matriz de confusión:\n",
      "[[4219 1259]\n",
      " [  32  669]]\n"
     ]
    },
    {
     "data": {
      "image/png": "[encoded data removed]",
      "text/plain": [
       "<Figure size 432x360 with 1 Axes>"
      ]
     },
     "metadata": {
      "needs_background": "light"
     },
     "output_type": "display_data"
    }
   ],
   "source": [
    "# Obtener probabilidades en lugar de predicciones binarias\n",
    "y_probs = model.predict_proba(X_test_scaled)[:, 1]  # Probabilidades para la clase positiva\n",
    "\n",
    "# Ajustar el umbral\n",
    "umbral = 0.3  # Baja el umbral para aumentar recall y reducir falsos negativos\n",
    "y_pred_ajustado = (y_probs >= umbral).astype(int)\n",
    "\n",
    "# Ver métricas\n",
    "print(\"Reporte de clasificación con umbral ajustado:\")\n",
    "print(classification_report(y_test, y_pred_ajustado))\n",
    "\n",
    "# Ver matriz de confusión\n",
    "print(\"Matriz de confusión:\")\n",
    "print(confusion_matrix(y_test, y_pred_ajustado))\n",
    "\n",
    "# Matriz de confusión\n",
    "cm = confusion_matrix(y_test, y_pred_ajustado)\n",
    "plt.figure(figsize=(6,5))\n",
    "sns.heatmap(cm, annot=True, fmt='d', cmap='Blues', cbar=False)\n",
    "plt.xlabel('Predicted label')\n",
    "plt.ylabel('True label')\n",
    "plt.title('Confusion Matrix')\n",
    "plt.show()"
   ]
  },
  {
   "cell_type": "markdown",
   "id": "d6b4a20b",
   "metadata": {},
   "source": [
    "## Conclusiones / Conclusions\n",
    "\n",
    "### Comments / Comentarios\n",
    "\n",
    "**Modelo inicial**\n",
    "- Verificamos qué variables afectan más al modelo, verificando relación lineal (para modelos como LogisticRegression) y no lineales para usar modelos que tomen en cuenta no linealidades.\n",
    "- En este notebbok, usamos LogistiREgression, por lo que verificamos qué variables tienen correlación(linealidad) con el target  \n",
    "- Debido al desbalance de datos (más negativos que positivos), se usó el metodo class_weights para tomar en cuenta esto e intentar no sesgar el modelo.  \n",
    "- Nos referimos a umbral como el valor para el cual, los resultados por encima del mismo se toman como positivos.\n",
    "\n",
    "**Initial Model**\n",
    "- We examined which variables have the greatest impact on the model, checking linear relationships (for models such as Logistic Regression) and non-linear relationships for the potential use of models that account for non-linearities.\n",
    "- In this notebook, we used Logistic Regression, so we specifically verified which variables have a linear correlation with the target.\n",
    "- Due to the data imbalance (more negatives than positives), the class_weight method was applied to address this and avoid biasing the model.\n",
    "- We refer to the threshold as the value above which results are classified as positives.\n",
    "\n",
    "### Conclusiones generales / General Conclusions\n",
    "\n",
    "**Español:**\n",
    "- Balance inicial entre precisión y recall:\n",
    "En el modelo original, con umbral estándar 0.5, se obtuvo un recall alto para la clase positiva (0.89) 89%, lo que indica que la mayoría de los clientes que realmente se suscriben fueron identificados. Sin embargo, la precisión para la clase positiva fue baja (0.43) 43%, lo que refleja un alto número de falsos positivos: clientes predichos como suscriptores pero que realmente no lo son.\n",
    "\n",
    "- Falsos negativos relativamente bajos, pero mejorables:\n",
    "La matriz de confusión inicial muestra 80 falsos negativos, es decir, clientes que querían suscribirse pero fueron clasificados erróneamente como no suscriptores. Esto representa una pérdida potencial de clientes valiosos para el banco.\n",
    "\n",
    "- Efecto del ajuste del umbral a 0.3:\n",
    "Al bajar el umbral de decisión a 0.3, se prioriza la reducción de falsos negativos, logrando reducirlos a 32. Esto mejora significativamente la sensibilidad o recall (de 0.89 a 0.95) para detectar clientes dispuestos a suscribirse, lo que es crucial para captar más clientes potenciales.\n",
    "\n",
    "- Costos y trade-offs asociados:\n",
    "La reducción de falsos negativos se logra a costa de aumentar falsos positivos, que pasan de 823 a 1259. Esto implica que el banco contactará a más clientes que no se suscribirán, incrementando el costo de campaña de captación de clientes. Además, la precisión para la clase positiva baja de 0.43 a 0.35, reflejando más \"ruido\" en las predicciones positivas.\n",
    "\n",
    "- Impacto en métricas globales:\n",
    "El accuracy total cae de 0.85 a 0.79, dado que el aumento de falsos positivos afecta la exactitud global. Sin embargo, el weighted average de precisión y recall sigue siendo alto (>0.8), lo que indica un buen desempeño balanceado considerando el desbalance de clases.\n",
    "\n",
    "\n",
    "**English:**  \n",
    "  \n",
    "- Initial balance between precision and recall:\n",
    "In the original model, with the standard threshold of 0.5, we achieved a high recall for the positive class (0.89 or 89%), indicating that most customers who actually subscribed were correctly identified. However, precision for the positive class was low (0.43 or 43%), reflecting a high number of false positives—customers predicted as subscribers who, in reality, are not.\n",
    "\n",
    "- Relatively low but improvable false negatives:\n",
    "The initial confusion matrix shows 80 false negatives, i.e., customers who intended to subscribe but were incorrectly classified as non-subscribers. This represents a potential loss of valuable customers for the bank.\n",
    "\n",
    "- Effect of lowering the threshold to 0.3:\n",
    "By reducing the decision threshold to 0.3, we prioritized lowering false negatives, reducing them from 80 to 32. This significantly improved sensitivity/recall (from 0.89 to 0.95) in detecting customers willing to subscribe, which is critical for capturing more potential clients.\n",
    "\n",
    "- Costs and trade-offs involved:\n",
    "The reduction in false negatives came at the cost of increasing false positives, which rose from 823 to 1259. This means the bank will contact more customers who will not subscribe, increasing customer acquisition campaign costs. In addition, precision for the positive class dropped from 0.43 to 0.35, reflecting more “noise” in positive predictions.\n",
    "\n",
    "- Impact on overall metrics:\n",
    "Overall accuracy dropped from 0.85 to 0.79, as the increase in false positives negatively affects global accuracy. However, the weighted average of precision and recall remains high (>0.8), indicating balanced performance given the class imbalance."
   ]
  },
  {
   "cell_type": "markdown",
   "id": "c85133bf",
   "metadata": {},
   "source": [
    "### Recomendaciones / Recommendations\n",
    "- Según objetivos de negocio:\n",
    "Dado que para la banca es más costoso perder clientes que potencialmente suscribirían (falsos negativos) que contactar clientes no interesados (falsos positivos), el ajuste del umbral a 0.3 es una estrategia adecuada. Permite maximizar la detección de clientes interesados (recall alto) a un costo manejable (costo de campaña de contacto a clientes).\n",
    "\n",
    "- Pasos futuros:\n",
    "Se recomienda evaluar el costo real asociado a falsos positivos vs falsos negativos para refinar aún más el umbral. También se sugiere implementar monitoreo en producción para ajustar el umbral dinámicamente según la respuesta del mercado y feedback de campañas.\n",
    "\n",
    "- También se recomienda usar herramientas alternativas para manejar datos desbalanceados y mejorar la precisión.\n",
    "\n",
    "**English**\n",
    "- According to business objectives:\n",
    "Since for banking it is more costly to lose customers who would potentially subscribe (false negatives) than to contact uninterested customers (false positives), lowering the threshold to 0.3 is an appropriate strategy. It maximizes the detection of interested customers (high recall) at a manageable cost (campaign contact costs).\n",
    "\n",
    "- Next steps:\n",
    "It is recommended to evaluate the actual cost associated with false positives vs. false negatives to further refine the threshold. Implementing monitoring in production is also suggested, so the threshold can be dynamically adjusted according to market response and campaign feedback.\n",
    "\n",
    "- It is also recommended to explore alternative tools for handling imbalanced data and improving precision."
   ]
  },
  {
   "cell_type": "code",
   "execution_count": null,
   "id": "976085e7",
   "metadata": {},
   "outputs": [],
   "source": []
  }
 ],
 "metadata": {
  "@webio": {
   "lastCommId": null,
   "lastKernelId": null
  },
  "kernelspec": {
   "display_name": "Python 3",
   "language": "python",
   "name": "python3"
  },
  "language_info": {
   "codemirror_mode": {
    "name": "ipython",
    "version": 3
   },
   "file_extension": ".py",
   "mimetype": "text/x-python",
   "name": "python",
   "nbconvert_exporter": "python",
   "pygments_lexer": "ipython3",
   "version": "3.11.9"
  }
 },
 "nbformat": 4,
 "nbformat_minor": 5
}
