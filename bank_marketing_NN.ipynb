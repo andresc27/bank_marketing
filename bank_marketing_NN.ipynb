{
 "cells": [
  {
   "cell_type": "markdown",
   "id": "e9f2bfcd",
   "metadata": {},
   "source": [
    "### Predicción de Suscripción de Depósito a Plazo Fijo (Neural Network NN)\n",
    "Intentaremos mejorar la precisión de nuestro modelo usando una herramiento que captura mejor las no linealidades de los datos, es decir una NN."
   ]
  },
  {
   "cell_type": "code",
   "execution_count": 1,
   "id": "f54c1b5c",
   "metadata": {},
   "outputs": [
    {
     "name": "stderr",
     "output_type": "stream",
     "text": [
      "2025-08-13 18:03:06.686764: I tensorflow/core/util/port.cc:153] oneDNN custom operations are on. You may see slightly different numerical results due to floating-point round-off errors from different computation orders. To turn them off, set the environment variable `TF_ENABLE_ONEDNN_OPTS=0`.\n",
      "2025-08-13 18:03:06.747813: I tensorflow/core/platform/cpu_feature_guard.cc:210] This TensorFlow binary is optimized to use available CPU instructions in performance-critical operations.\n",
      "To enable the following instructions: AVX2 AVX512F AVX512_VNNI FMA, in other operations, rebuild TensorFlow with the appropriate compiler flags.\n"
     ]
    }
   ],
   "source": [
    "import pandas as pd\n",
    "import numpy as np\n",
    "import matplotlib.pyplot as plt\n",
    "\n",
    "from sklearn.model_selection import train_test_split\n",
    "from sklearn.preprocessing import StandardScaler\n",
    "from sklearn.utils import class_weight\n",
    "from sklearn.metrics import confusion_matrix, ConfusionMatrixDisplay\n",
    "from sklearn.metrics import precision_recall_curve, roc_auc_score, roc_curve, confusion_matrix, classification_report\n",
    "from sklearn.metrics import accuracy_score\n",
    "\n",
    "import tensorflow as tf\n",
    "from tensorflow.keras.models import Sequential\n",
    "from tensorflow.keras.layers import Dense, Dropout, BatchNormalization\n",
    "from tensorflow.keras.optimizers import Adam\n",
    "from tensorflow.keras.callbacks import EarlyStopping, ReduceLROnPlateau"
   ]
  },
  {
   "cell_type": "code",
   "execution_count": 2,
   "id": "894be732",
   "metadata": {},
   "outputs": [
    {
     "name": "stdout",
     "output_type": "stream",
     "text": [
      "age                 int64\n",
      "job                object\n",
      "marital            object\n",
      "education          object\n",
      "default            object\n",
      "housing            object\n",
      "loan               object\n",
      "contact            object\n",
      "month              object\n",
      "day_of_week        object\n",
      "duration            int64\n",
      "campaign            int64\n",
      "pdays               int64\n",
      "previous            int64\n",
      "poutcome           object\n",
      "emp.var.rate      float64\n",
      "cons.price.idx    float64\n",
      "cons.conf.idx     float64\n",
      "euribor3m         float64\n",
      "nr.employed       float64\n",
      "y                  object\n",
      "dtype: object\n"
     ]
    }
   ],
   "source": [
    "# Cargar datos\n",
    "df = pd.read_csv('datasets/bank-additional-full.csv', delimiter=';')\n",
    "print(df.dtypes)"
   ]
  },
  {
   "cell_type": "code",
   "execution_count": 3,
   "id": "990a1f0c",
   "metadata": {},
   "outputs": [
    {
     "name": "stdout",
     "output_type": "stream",
     "text": [
      "age                 int64\n",
      "job                  int8\n",
      "marital              int8\n",
      "education            int8\n",
      "default              int8\n",
      "housing              int8\n",
      "loan                 int8\n",
      "contact              int8\n",
      "month                int8\n",
      "day_of_week          int8\n",
      "duration            int64\n",
      "campaign            int64\n",
      "pdays               int64\n",
      "previous            int64\n",
      "poutcome             int8\n",
      "emp.var.rate      float64\n",
      "cons.price.idx    float64\n",
      "cons.conf.idx     float64\n",
      "euribor3m         float64\n",
      "nr.employed       float64\n",
      "y                  object\n",
      "y_encoded           int64\n",
      "dtype: object\n"
     ]
    }
   ],
   "source": [
    "# Codificar variable objetivo binaria\n",
    "df['y_encoded'] = df['y'].map({'no': 0, 'yes': 1})\n",
    "\n",
    "# Seleccionar features numéricas y convertir categóricas a numéricas con Label Encoding sencillo\n",
    "df_encoded = df.copy()\n",
    "for col in df_encoded.select_dtypes(include='object').columns:\n",
    "    if col != 'y':  # evitar la target original\n",
    "        df_encoded[col] = df_encoded[col].astype('category').cat.codes\n",
    "\n",
    "print(df_encoded.dtypes)"
   ]
  },
  {
   "cell_type": "code",
   "execution_count": 4,
   "id": "e5685985",
   "metadata": {
    "scrolled": false
   },
   "outputs": [],
   "source": [
    "# Definir X, y\n",
    "X = df_encoded.drop(columns=['y', 'y_encoded'])\n",
    "y = df_encoded['y_encoded']\n",
    "\n",
    "# Dividir en train y val\n",
    "X_temp, X_test, y_temp, y_test = train_test_split(X, y, test_size=0.15, random_state=42)\n",
    "X_train, X_val, y_train, y_val = train_test_split(X_temp, y_temp, test_size=0.15/0.85, random_state=42)\n",
    "\n",
    "# Escalar features (muy importante para NN)\n",
    "scaler = StandardScaler()\n",
    "X_train_scaled = scaler.fit_transform(X_train)\n",
    "X_val_scaled = scaler.transform(X_val)\n",
    "X_test_scaled = scaler.transform(X_test)\n",
    "\n",
    "# Calcular class weights para balancear el dataset\n",
    "y_train_array = y_train.values  # convertir a numpy array\n",
    "\n",
    "class_weights = class_weight.compute_class_weight(\n",
    "    class_weight='balanced',\n",
    "    classes=np.unique(y_train_array),\n",
    "    y=y_train_array\n",
    ")\n",
    "class_weight_dict = dict(enumerate(class_weights))"
   ]
  },
  {
   "cell_type": "code",
   "execution_count": 5,
   "id": "86773e70",
   "metadata": {},
   "outputs": [
    {
     "name": "stderr",
     "output_type": "stream",
     "text": [
      "/cvmfs/sft.cern.ch/lcg/views/LCG_107_swan/x86_64-el9-gcc13-opt/lib/python3.11/site-packages/keras/src/layers/core/dense.py:87: UserWarning: Do not pass an `input_shape`/`input_dim` argument to a layer. When using Sequential models, prefer using an `Input(shape)` object as the first layer in the model instead.\n",
      "  super().__init__(activity_regularizer=activity_regularizer, **kwargs)\n"
     ]
    },
    {
     "name": "stdout",
     "output_type": "stream",
     "text": [
      "Epoch 1/100\n",
      "901/901 - 6s - 7ms/step - accuracy: 0.7584 - loss: 0.5456 - val_accuracy: 0.8139 - val_loss: 0.4377 - learning_rate: 0.0010\n",
      "Epoch 2/100\n",
      "901/901 - 2s - 2ms/step - accuracy: 0.8129 - loss: 0.4425 - val_accuracy: 0.8278 - val_loss: 0.3884 - learning_rate: 0.0010\n",
      "Epoch 3/100\n",
      "901/901 - 2s - 2ms/step - accuracy: 0.8104 - loss: 0.4217 - val_accuracy: 0.8103 - val_loss: 0.4129 - learning_rate: 0.0010\n",
      "Epoch 4/100\n",
      "901/901 - 2s - 2ms/step - accuracy: 0.8132 - loss: 0.4004 - val_accuracy: 0.8270 - val_loss: 0.3749 - learning_rate: 0.0010\n",
      "Epoch 5/100\n",
      "901/901 - 2s - 2ms/step - accuracy: 0.8185 - loss: 0.3811 - val_accuracy: 0.8066 - val_loss: 0.3825 - learning_rate: 0.0010\n",
      "Epoch 6/100\n",
      "901/901 - 2s - 2ms/step - accuracy: 0.8198 - loss: 0.3758 - val_accuracy: 0.8296 - val_loss: 0.3602 - learning_rate: 0.0010\n",
      "Epoch 7/100\n",
      "901/901 - 2s - 2ms/step - accuracy: 0.8166 - loss: 0.3663 - val_accuracy: 0.8263 - val_loss: 0.3662 - learning_rate: 0.0010\n",
      "Epoch 8/100\n",
      "901/901 - 2s - 2ms/step - accuracy: 0.8200 - loss: 0.3547 - val_accuracy: 0.8249 - val_loss: 0.3628 - learning_rate: 0.0010\n",
      "Epoch 9/100\n",
      "901/901 - 2s - 2ms/step - accuracy: 0.8260 - loss: 0.3540 - val_accuracy: 0.8338 - val_loss: 0.3447 - learning_rate: 0.0010\n",
      "Epoch 10/100\n",
      "901/901 - 2s - 2ms/step - accuracy: 0.8228 - loss: 0.3505 - val_accuracy: 0.8328 - val_loss: 0.3431 - learning_rate: 0.0010\n",
      "Epoch 11/100\n",
      "901/901 - 2s - 2ms/step - accuracy: 0.8199 - loss: 0.3476 - val_accuracy: 0.8285 - val_loss: 0.3567 - learning_rate: 0.0010\n",
      "Epoch 12/100\n",
      "901/901 - 2s - 2ms/step - accuracy: 0.8259 - loss: 0.3455 - val_accuracy: 0.8200 - val_loss: 0.3508 - learning_rate: 0.0010\n",
      "Epoch 13/100\n",
      "901/901 - 2s - 2ms/step - accuracy: 0.8263 - loss: 0.3398 - val_accuracy: 0.8333 - val_loss: 0.3425 - learning_rate: 0.0010\n",
      "Epoch 14/100\n",
      "901/901 - 2s - 2ms/step - accuracy: 0.8272 - loss: 0.3405 - val_accuracy: 0.8335 - val_loss: 0.3366 - learning_rate: 0.0010\n",
      "Epoch 15/100\n",
      "901/901 - 2s - 2ms/step - accuracy: 0.8270 - loss: 0.3408 - val_accuracy: 0.8204 - val_loss: 0.3504 - learning_rate: 0.0010\n",
      "Epoch 16/100\n",
      "901/901 - 2s - 2ms/step - accuracy: 0.8283 - loss: 0.3386 - val_accuracy: 0.8291 - val_loss: 0.3486 - learning_rate: 0.0010\n",
      "Epoch 17/100\n",
      "901/901 - 2s - 2ms/step - accuracy: 0.8268 - loss: 0.3445 - val_accuracy: 0.8516 - val_loss: 0.3191 - learning_rate: 0.0010\n",
      "Epoch 18/100\n",
      "901/901 - 2s - 2ms/step - accuracy: 0.8283 - loss: 0.3337 - val_accuracy: 0.8278 - val_loss: 0.3515 - learning_rate: 0.0010\n",
      "Epoch 19/100\n",
      "901/901 - 2s - 2ms/step - accuracy: 0.8275 - loss: 0.3334 - val_accuracy: 0.8063 - val_loss: 0.3698 - learning_rate: 0.0010\n",
      "Epoch 20/100\n",
      "901/901 - 2s - 2ms/step - accuracy: 0.8221 - loss: 0.3316 - val_accuracy: 0.8272 - val_loss: 0.3391 - learning_rate: 0.0010\n",
      "Epoch 21/100\n",
      "901/901 - 2s - 2ms/step - accuracy: 0.8248 - loss: 0.3331 - val_accuracy: 0.8307 - val_loss: 0.3594 - learning_rate: 0.0010\n",
      "Epoch 22/100\n",
      "901/901 - 2s - 2ms/step - accuracy: 0.8297 - loss: 0.3274 - val_accuracy: 0.8273 - val_loss: 0.3428 - learning_rate: 5.0000e-04\n",
      "Epoch 23/100\n",
      "901/901 - 2s - 2ms/step - accuracy: 0.8319 - loss: 0.3226 - val_accuracy: 0.8369 - val_loss: 0.3487 - learning_rate: 5.0000e-04\n",
      "Epoch 24/100\n",
      "901/901 - 2s - 2ms/step - accuracy: 0.8373 - loss: 0.3211 - val_accuracy: 0.8396 - val_loss: 0.3315 - learning_rate: 5.0000e-04\n",
      "Epoch 25/100\n",
      "901/901 - 2s - 2ms/step - accuracy: 0.8328 - loss: 0.3201 - val_accuracy: 0.8272 - val_loss: 0.3426 - learning_rate: 5.0000e-04\n",
      "Exactitud en validación: 0.8516\n"
     ]
    }
   ],
   "source": [
    "# Modelo mejorado\n",
    "model = Sequential([\n",
    "    Dense(64, activation='relu', kernel_regularizer=tf.keras.regularizers.l2(0.001), input_shape=(X_train.shape[1],)),\n",
    "    BatchNormalization(),\n",
    "    Dropout(0.3),\n",
    "    \n",
    "    Dense(32, activation='relu', kernel_regularizer=tf.keras.regularizers.l2(0.001)),\n",
    "    BatchNormalization(),\n",
    "    Dropout(0.3),\n",
    "    \n",
    "    Dense(16, activation='relu', kernel_regularizer=tf.keras.regularizers.l2(0.001)),\n",
    "    Dropout(0.2),\n",
    "    \n",
    "    Dense(1, activation='sigmoid')\n",
    "])\n",
    "\n",
    "# Compilación\n",
    "model.compile(\n",
    "    optimizer=Adam(learning_rate=0.001),\n",
    "    loss='binary_crossentropy',\n",
    "    metrics=['accuracy']\n",
    ")\n",
    "\n",
    "# Callbacks para optimización\n",
    "early_stop = EarlyStopping(\n",
    "    monitor='val_loss',\n",
    "    patience=8,\n",
    "    restore_best_weights=True\n",
    ")\n",
    "\n",
    "reduce_lr = ReduceLROnPlateau(\n",
    "    monitor='val_loss',\n",
    "    factor=0.5,\n",
    "    patience=4,\n",
    "    min_lr=1e-5\n",
    ")\n",
    "\n",
    "# Entrenamiento\n",
    "history = model.fit(\n",
    "    X_train_scaled,\n",
    "    y_train_array,\n",
    "    validation_data=(X_val_scaled, y_val),\n",
    "    epochs=100,\n",
    "    batch_size=32,\n",
    "    class_weight=class_weight_dict,\n",
    "    callbacks=[early_stop, reduce_lr],\n",
    "    verbose=2\n",
    ")\n",
    "\n",
    "# Evaluación\n",
    "loss, acc = model.evaluate(X_val_scaled, y_val, verbose=0)\n",
    "print(f\"Exactitud en validación: {acc:.4f}\")"
   ]
  },
  {
   "cell_type": "code",
   "execution_count": 8,
   "id": "83bdcbd1",
   "metadata": {},
   "outputs": [
    {
     "data": {
      "image/png": "[encoded data removed]",
      "text/plain": [
       "<Figure size 864x360 with 2 Axes>"
      ]
     },
     "metadata": {
      "needs_background": "light"
     },
     "output_type": "display_data"
    },
    {
     "name": "stdout",
     "output_type": "stream",
     "text": [
      "\u001b[1m901/901\u001b[0m \u001b[32m━━━━━━━━━━━━━━━━━━━━\u001b[0m\u001b[37m\u001b[0m \u001b[1m1s\u001b[0m 931us/step\n",
      "\u001b[1m194/194\u001b[0m \u001b[32m━━━━━━━━━━━━━━━━━━━━\u001b[0m\u001b[37m\u001b[0m \u001b[1m0s\u001b[0m 949us/step\n",
      "Train accuracy (TensorFlow): 0.8533\n",
      "Validation accuracy (TensorFlow): 0.8516\n"
     ]
    }
   ],
   "source": [
    "# Gráficos de accuracy y loss\n",
    "plt.figure(figsize=(12, 5))\n",
    "\n",
    "# Accuracy\n",
    "plt.subplot(1, 2, 1)\n",
    "plt.plot(history.history['accuracy'], label='Train Accuracy')\n",
    "plt.plot(history.history['val_accuracy'], label='Validation Accuracy')\n",
    "plt.xlabel('Epoch')\n",
    "plt.ylabel('Accuracy')\n",
    "plt.legend()\n",
    "plt.title('Accuracy over epochs')\n",
    "\n",
    "# Loss\n",
    "plt.subplot(1, 2, 2)\n",
    "plt.plot(history.history['loss'], label='Train Loss')\n",
    "plt.plot(history.history['val_loss'], label='Validation Loss')\n",
    "plt.xlabel('Epoch')\n",
    "plt.ylabel('Loss')\n",
    "plt.legend()\n",
    "plt.title('Loss over epochs')\n",
    "\n",
    "plt.show()\n",
    "\n",
    "\n",
    "# Predecir probabilidades\n",
    "y_train_probs = model.predict(X_train_scaled)\n",
    "y_val_probs = model.predict(X_val_scaled)\n",
    "\n",
    "# Convertir probabilidades a clases (umbral 0.5)\n",
    "y_train_pred = (y_train_probs >= 0.5).astype(int).flatten()\n",
    "y_val_pred = (y_val_probs >= 0.5).astype(int).flatten()\n",
    "\n",
    "# Calcular accuracy con sklearn\n",
    "train_acc = accuracy_score(y_train, y_train_pred)\n",
    "val_acc = accuracy_score(y_val, y_val_pred)\n",
    "\n",
    "print(f\"Train accuracy (TensorFlow): {train_acc:.4f}\")\n",
    "print(f\"Validation accuracy (TensorFlow): {val_acc:.4f}\")"
   ]
  },
  {
   "cell_type": "code",
   "execution_count": 11,
   "id": "06a379d2",
   "metadata": {},
   "outputs": [
    {
     "name": "stdout",
     "output_type": "stream",
     "text": [
      "\u001b[1m194/194\u001b[0m \u001b[32m━━━━━━━━━━━━━━━━━━━━\u001b[0m\u001b[37m\u001b[0m \u001b[1m0s\u001b[0m 936us/step\n",
      "=== Classification Report (Test Set) ===\n",
      "              precision    recall  f1-score   support\n",
      "\n",
      "           0       0.99      0.83      0.90      5478\n",
      "           1       0.41      0.92      0.57       701\n",
      "\n",
      "    accuracy                           0.84      6179\n",
      "   macro avg       0.70      0.88      0.74      6179\n",
      "weighted avg       0.92      0.84      0.87      6179\n",
      "\n",
      "=== Confusion Matrix (Test Set) ===\n",
      "[[4573  905]\n",
      " [  59  642]]\n",
      "AUC (Test Set): 0.9414\n"
     ]
    },
    {
     "data": {
      "image/png": "[encoded data removed]",
      "text/plain": [
       "<Figure size 576x432 with 1 Axes>"
      ]
     },
     "metadata": {
      "needs_background": "light"
     },
     "output_type": "display_data"
    }
   ],
   "source": [
    "# Probabilidades y predicciones para test set ---\n",
    "y_test_probs = model.predict(X_test_scaled).ravel()\n",
    "y_test_pred = (y_test_probs >= 0.5).astype(int)  # Umbral estándar 0.5\n",
    "\n",
    "# Classification report\n",
    "print(\"=== Classification Report (Test Set) ===\")\n",
    "print(classification_report(y_test, y_test_pred))\n",
    "\n",
    "# Matriz de confusión\n",
    "print(\"=== Confusion Matrix (Test Set) ===\")\n",
    "print(confusion_matrix(y_test, y_test_pred))\n",
    "\n",
    "# ROC y AUC\n",
    "fpr, tpr, thresholds = roc_curve(y_test, y_test_probs)\n",
    "auc_score = roc_auc_score(y_test, y_test_probs)\n",
    "print(f\"AUC (Test Set): {auc_score:.4f}\")\n",
    "\n",
    "plt.figure(figsize=(8,6))\n",
    "plt.plot(fpr, tpr, label=f'ROC Curve (AUC = {auc_score:.4f})')\n",
    "plt.plot([0, 1], [0, 1], 'k--', label='Random Model')\n",
    "plt.xlabel(\"False Positive Rate\")\n",
    "plt.ylabel(\"True Positive Rate (Recall)\")\n",
    "plt.title(\"ROC Curve - Neural Network (Test Set)\")\n",
    "plt.legend(loc='lower right')\n",
    "plt.grid(True)\n",
    "plt.show()"
   ]
  },
  {
   "cell_type": "markdown",
   "id": "d6b4a20b",
   "metadata": {},
   "source": [
    "### Conclusiones finales: Neural Networks vs Logistic Regression\n",
    "\n",
    "**1. Mejora general del modelo**  \n",
    "- La **Neural Network (NN)** alcanzó un **accuracy de 0.84**, frente a **0.79** de Logistic Regression, mejorando **≈5 puntos porcentuales** en predecir correctamente tanto positivos como negativos.  \n",
    "- El **weighted average** de precisión y recall también mejora:  \n",
    "  - NN: precisión **0.92**, recall **0.84**  \n",
    "  - Logistic: precisión **0.92**, recall **0.79**  \n",
    "\n",
    "**2. Detección de clientes potenciales (clase positiva)**  \n",
    "- **Recall clase 1 (suscriptores):**  \n",
    "  - NN: **92%**, Logistic: **95%** → casi todos los clientes interesados son detectados (92 de cada 100 según NN).  \n",
    "- **Precisión clase 1:**  \n",
    "  - NN: **41%**, Logistic: **35%** → NN reduce los falsos positivos un 6%.  \n",
    "\n",
    "**3. F1-score (balance precisión y recall)**  \n",
    "- NN: **0.57** vs Logistic: **0.51** para clase positiva → mejor equilibrio en la detección de clientes que suscriben.\n",
    "\n",
    "**4. Clase negativa (no suscriptores)**  \n",
    "- NN: precisión **0.99**, recall **0.83**  \n",
    "- Logistic: precisión **0.99**, recall **0.77**  \n",
    "→ La NN identifica correctamente más no suscriptores, reduciendo contactos innecesarios (falsos positivos).\n",
    "\n",
    "**5. Curva ROC y AUC**  \n",
    "- NN: **AUC ≈ 0.9014**  \n",
    "- Logistic: **AUC ≈ 0.935**  \n",
    "→ Ambas muestran excelente discriminación, pero Logistic logra ligeramente un mejor balance\n",
    "\n",
    "**Conclusión estratégica:**  \n",
    "La **NN mantiene un recall alto para clientes interesados (92%)**, mejora la precisión y el F1-score respecto a Logistic Regression, y optimiza la identificación de clientes no interesados. Esto permite maximizar la captación de clientes potenciales y reducir costos de campaña.\n"
   ]
  },
  {
   "cell_type": "markdown",
   "id": "18b7d156",
   "metadata": {},
   "source": [
    "### Conclusions: Neural Network vs Logistic Regression\n",
    "\n",
    "**1. Overall Model Improvement**  \n",
    "- The **Neural Network (NN)** achieved an **accuracy of 0.84**, compared to **0.79** for Logistic Regression, improving by **≈5 percentage points** in correctly predicting both positives and negatives.  \n",
    "- The **weighted average** of precision and recall also improves:  \n",
    "  - NN: precision **0.92**, recall **0.84**  \n",
    "  - Logistic: precision **0.92**, recall **0.79**  \n",
    "\n",
    "**2. Detection of Potential Customers (Positive Class)**  \n",
    "- **Recall for class 1 (subscribers):**  \n",
    "  - NN: **92%**, Logistic: **95%** → almost all interested customers are detected (92 out of 100 according to NN).  \n",
    "- **Precision for class 1:**  \n",
    "  - NN: **41%**, Logistic: **35%** → NN reduces false positives by 6%.  \n",
    "\n",
    "**3. F1-score (Balance between Precision and Recall)**  \n",
    "- NN: **0.57** vs Logistic: **0.51** for the positive class → better balance in detecting subscribing customers.\n",
    "\n",
    "**4. Negative Class (Non-subscribers)**  \n",
    "- NN: precision **0.99**, recall **0.83**  \n",
    "- Logistic: precision **0.99**, recall **0.77**  \n",
    "→ The NN correctly identifies more non-subscribers, reducing unnecessary contacts (false positives).\n",
    "\n",
    "**5. ROC Curve and AUC**  \n",
    "- NN: **AUC ≈ 0.9014**  \n",
    "- Logistic: **AUC ≈ 0.935**  \n",
    "→ Both demonstrate excellent discrimination, although Logistic achieves a slightly better balance.\n",
    "\n",
    "**Strategic Conclusion:**  \n",
    "The **NN maintains a high recall for interested customers (92%)**, improves precision and F1-score compared to Logistic Regression, and optimizes identification of non-interested customers. This enables maximizing potential customer acquisition while reducing campaign costs.\n",
    "\n"
   ]
  },
  {
   "cell_type": "code",
   "execution_count": null,
   "id": "cdd45a5e",
   "metadata": {},
   "outputs": [],
   "source": []
  }
 ],
 "metadata": {
  "@webio": {
   "lastCommId": null,
   "lastKernelId": null
  },
  "kernelspec": {
   "display_name": "Python 3",
   "language": "python",
   "name": "python3"
  },
  "language_info": {
   "codemirror_mode": {
    "name": "ipython",
    "version": 3
   },
   "file_extension": ".py",
   "mimetype": "text/x-python",
   "name": "python",
   "nbconvert_exporter": "python",
   "pygments_lexer": "ipython3",
   "version": "3.11.9"
  }
 },
 "nbformat": 4,
 "nbformat_minor": 5
}
